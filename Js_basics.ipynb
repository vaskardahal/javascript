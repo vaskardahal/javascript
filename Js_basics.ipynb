{
 "cells": [
  {
   "cell_type": "markdown",
   "id": "cde699a9-7957-48d1-b72e-0afc83c307e7",
   "metadata": {},
   "source": [
    "# Javascript Basics"
   ]
  },
  {
   "cell_type": "markdown",
   "id": "96326782-b241-45d3-b793-cb5656f2750f",
   "metadata": {},
   "source": [
    "## Scopes in JS\n",
    "\n",
    "Various scopes that occur in JS:\n",
    "1. Global Scope\n",
    "2. Script Scope (technically part of global scope of a script file's Execution Context)\n",
    "3. Block Scope\n",
    "4. Function Scope\n",
    "5. Module Scope\n",
    "\n",
    "### Block Scope\n",
    "A Block combines multiple JS script statements into a single group. This single group is also called Compound Statement. \\\n",
    "A Block Scope defines what all variables and functions we can access inside a Block. "
   ]
  },
  {
   "cell_type": "code",
   "execution_count": 1,
   "id": "f53cd358-86f5-49e4-8b54-8643913a6f4f",
   "metadata": {},
   "outputs": [],
   "source": [
    "{\n",
    "    // Block Scope\n",
    "    var v = 42;\n",
    "}\n",
    "\n",
    "if (true) {\n",
    "    // Block Scope\n",
    "}\n",
    "\n",
    "for (var i = 1; i <= 10; i++) {\n",
    "    // Block Scope\n",
    "}"
   ]
  },
  {
   "cell_type": "code",
   "execution_count": 2,
   "id": "eb29687d-bfcc-4646-afe4-2ab0b860b13a",
   "metadata": {},
   "outputs": [],
   "source": [
    "function sum(a, b) {\n",
    "    // Function Scope\n",
    "    var result = a + b;\n",
    "}"
   ]
  },
  {
   "cell_type": "markdown",
   "id": "7df62fc7-228c-4127-8e20-251f04cf6749",
   "metadata": {},
   "source": [
    "### What is Lexical Scope then? "
   ]
  },
  {
   "cell_type": "markdown",
   "id": "c44382b9-65f3-4abc-925a-9cc17ef5f9d7",
   "metadata": {},
   "source": [
    "### The conundrum of scope of `var`"
   ]
  },
  {
   "cell_type": "code",
   "execution_count": 3,
   "id": "6ef2c20f-f789-4741-8457-1b020dd96ba7",
   "metadata": {},
   "outputs": [
    {
     "name": "stdout",
     "output_type": "stream",
     "text": [
      "Value of v: 42\n",
      "Value of i: 11\n"
     ]
    },
    {
     "ename": "ReferenceError",
     "evalue": "result is not defined",
     "execution_count": 3,
     "output_type": "error",
     "traceback": [
      "evalmachine.<anonymous>:3",
      "console.log(`Value of result: ${result}`);",
      "                                ^",
      "",
      "ReferenceError: result is not defined",
      "    at evalmachine.<anonymous>:3:33",
      "    at Script.runInThisContext (node:vm:123:12)",
      "    at Object.runInThisContext (node:vm:299:38)",
      "    at run ([eval]:1020:15)",
      "    at onRunRequest ([eval]:864:18)",
      "    at onMessage ([eval]:828:13)",
      "    at process.emit (node:events:517:28)",
      "    at emit (node:internal/child_process:944:14)",
      "    at process.processTicksAndRejections (node:internal/process/task_queues:83:21)"
     ]
    }
   ],
   "source": [
    "console.log(\"Value of v: \" + v);\n",
    "console.log(`Value of i: ${i}`);\n",
    "console.log(`Value of result: ${result}`);"
   ]
  },
  {
   "cell_type": "markdown",
   "id": "295e1881-795b-4540-adb6-8bfa35f2e8fc",
   "metadata": {},
   "source": [
    "The variable defined with `var` leaks out of its scope when it is defined within the block scope. This is because any variable defined with `var` is always hoisted to the Global scope irrespective of the scope (global or block or function) it is defined in.\\\n",
    "The leakage becomes problematic especially when we define a counter like `var i = 0` inside a for-loop. We would want the variable `i` confined within the scope of the for loop only. But since it leaks outside of the scope of the for-loop, it can become problematic. \n",
    "\n",
    "But when a variable is defined within a function scope with `var`, it cannot be accessed outside of the scope of the function. "
   ]
  },
  {
   "cell_type": "markdown",
   "id": "d0d7e181-3d5d-4188-ac3d-74580539a164",
   "metadata": {},
   "source": [
    "### Replace `var` with `let` or `const`\n",
    "\n",
    "Scope will protect the variables and not allow their access to leak when they are defined with `let` or `const`. \\\n",
    "In a for-loop, replacing `var` with `let` won't allow its access to leak outside of the scope of the for-loop. \n",
    "\n",
    "We use `const` when the reference assigned to a variable - not value - is required to be constant. \\\n",
    "Defining an object with const does not make it an immutable object. We can still change the object and its contents while the reference to it remains constant. \\\n",
    "Scalar objects like string or integer are immutable. So, if variable defined with `const` is a scalar, it necessarily becomes immutable. \\\n",
    "However, if array or object is defined with `const`, the `const` will guarantee that the variable is always pointing to the same array or object, but the content of this array or object can be changed\\mutated anytime. "
   ]
  },
  {
   "cell_type": "code",
   "execution_count": 4,
   "id": "e09be500-e556-4d39-ab1d-87917270a096",
   "metadata": {},
   "outputs": [
    {
     "name": "stdout",
     "output_type": "stream",
     "text": [
      "100\n",
      "200\n"
     ]
    }
   ],
   "source": [
    "let var1 = 100;\n",
    "/*\n",
    "    Multiple lines of code here\n",
    "*/\n",
    "console.log(var1); // value of var1 could have changed\n",
    "\n",
    "const var2 = 200;\n",
    "/*\n",
    "    Multiple lines of code here\n",
    "*/\n",
    "console.log(var2); // var2 is always going to remain 200, won't change"
   ]
  },
  {
   "cell_type": "markdown",
   "id": "0ecf89df-3af7-4c5a-9d14-6237470723d6",
   "metadata": {},
   "source": [
    "## Arrow functions\n",
    "\n",
    "Arrow function is preferred not only because it is shorter and elegant, but also because it behaves more predictably with closures. \\\n",
    "An arrow function does not care who calls it, but a regular function cares very much about that. \n",
    "\n",
    "Regular function gives access to its \"calling\" environment. Arrow function gives access to its \"defining\" environment. \\\n",
    "The value of `this` keyword inside a regular function depends on HOW the function was CALLED (the OBJECT that made the call). \\\n",
    "The value of `this` keyword inside an arrow function depends on WHERE the function was DEFINED (the SCOPE that defined the function). \n",
    "\n",
    "``` js\n",
    "const X = function () {\n",
    "    // \"this\" here is bound to the caller of X\n",
    "};\n",
    "\n",
    "const Y = () => {\n",
    "    // \"this\" here is not bound to the caller of Y\n",
    "\n",
    "    // It is the same \"this\" found in the scope where Y is defined\n",
    "};\n",
    "```\n",
    "\n",
    "One more advantage of an arrow function is that if the function code has only a single line returning something, we can make it more concise as follows: \n",
    "1. removing the curly braces & removing the return statement altogether.\n",
    "2. Also, if the function receives single argument, the parenthesis around the input argument can be removed too.\n",
    "\n",
    "This syntax is popular when the function gets passed to the array methods like `map`, `reduce` and `filter`, and functional programming in general. "
   ]
  },
  {
   "cell_type": "code",
   "execution_count": 5,
   "id": "5644481c-0ac3-474b-a8f0-c3ecf060ccff",
   "metadata": {},
   "outputs": [],
   "source": [
    "let square1 = (a) => {\n",
    "    return a*a;\n",
    "}\n",
    "\n",
    "let square2 = (a) => a*a;\n",
    "\n",
    "let square3 = a => a*a;"
   ]
  },
  {
   "cell_type": "markdown",
   "id": "a9a59465-3b66-4c7f-af59-38a84511155e",
   "metadata": {},
   "source": [
    "## Object Literals\n",
    "\n",
    "``` js\n",
    "let dynamic_property = 'answer';\n",
    "let inverseOfPI = 1/Math.PI;\n",
    "let obj = {\n",
    "    key1: 10, \n",
    "    key2: 20,\n",
    "    f1() {}, \n",
    "    f2: () => {},\n",
    "    [dynamic_property]: 100,\n",
    "    inverseOfPI,\n",
    "}\n",
    "\n",
    "console.log(obj.dynamic_property); // returns => undefined\n",
    "console.log(obj.answer); // returns => 100\n",
    "```"
   ]
  },
  {
   "cell_type": "markdown",
   "id": "d6ee19b9-aee0-4f81-a360-de5666b37491",
   "metadata": {},
   "source": [
    "## Destructuring and Rest\\Spread Operators\n",
    "\n",
    "### Destructuring\n",
    "Let's take the built-in object called `Math` with 3 properties - `PI`, `E` and `SQRT2`. And we want the values of these properties into the enclosing scope, we would do the following using the basic logic: \n",
    "``` js\n",
    "const PI = Math.PI;\n",
    "const E = Math.E;\n",
    "const SQRT2 = Math.SQRT2;\n",
    "```\n",
    "Destructuring syntax condenses these 3 lines into an equivalent single line. \n",
    "``` js\n",
    "const {PI, E, SQRT2} = Math;\n",
    "```\n",
    "This is useful when only a few properties out of a bigger object are required. For example,\n",
    "``` js\n",
    "const {Component, Fragment, useState} = require('react');\n",
    "useState();\n",
    "```\n",
    "\n",
    "Destructruing also works inside function arguments. If the input argument passed to a function is an object, instead of using the name of the object everytime its properties have to be invoked inside the function, we can use the destructuring syntax within the function's argument entry paranthesis to destructure just the properties that we are interested in within the scope of that function. \n",
    "``` js\n",
    "const circle = {\n",
    "    X: 0,\n",
    "    Y: 0,\n",
    "    radius: 2,\n",
    "}\n",
    "\n",
    "const circleArea = ({radius}, {precision = 2}={}) => (PI * radius * radius).toFixed(precision);\n",
    "\n",
    "let areaOfCircle = CircleArea(circle, {precision: 5});\n",
    "console.log(areaOfCircle);\n",
    "```\n",
    "This improves the readability of the function, and we will see this being used a lot in the `props` arguments in React function components. \n",
    "\n",
    "Destructuring also works for arrays. Item positions in the array can be destructured into local variables. \n",
    "``` js\n",
    "const [first, second, , fourth] = [10, 20, 30, 40];\n",
    "// In React: \n",
    "const [value, setValue] = useState(initalValue); // useState() returns an array of 2 values\n",
    "```\n",
    "\n",
    "### Rest Operator\n",
    "Array destructuring is useful when combined with the rest operator. It is powerful for splitting the array. \n",
    "``` js\n",
    "const [first, ...restOfItems] = [10, 20, 30, 40]; \n",
    "console.log(first); // Prints => 10\n",
    "console.log(restOfItems); // Prints => [20, 30, 40]\n",
    "```\n",
    "The power of rest operator is more evident when we need to filter out certain properties from an object, and create a new object with the filtered properties. \n",
    "``` js\n",
    "const data = {\n",
    "    key1: '001', \n",
    "    key2: '002', \n",
    "    firstName: 'Jack', \n",
    "    lastName: 'Ma',\n",
    "}\n",
    "const {key1, key2, ...person} = data;\n",
    "console.log(person); // Prints => {firstName: 'Jack', lastName: 'Ma'}\n",
    "```"
   ]
  },
  {
   "cell_type": "markdown",
   "id": "c50a4192-bf70-46ee-8fe1-7714918e43cb",
   "metadata": {},
   "source": [
    "### Spread Operator\n",
    "The three dots can also be used as spread operator. Spread operator allows an iterable such as an array or string to be expanded into separate elements. In other words, it unpacks the elements. \n",
    "```js\n",
    "let numbers = [1, 2, 3, 4, 5];\n",
    "let maximum = Math.max(numbers); // Returns => NaN\n",
    "// But after unpacking the elements: \n",
    "let maxValue = Math.max(...numbers); // Returns => 5\n",
    "// Similarly, \n",
    "let minValue = Math.min(...numbers); // Returns => 1\n",
    "```\n",
    "Unpacking also works with string. It allows to separate a string into different characters which in turn opens up multitude of opportunities. \n",
    "``` js\n",
    "let userName = \"J Ma\";\n",
    "let letters = [...userName];\n",
    "let joinedLetters = [...userName].join('_');\n",
    "console.log(letters); // Prints => ['J',' ','M','a']\n",
    "console.log(joinedLetters); // Prints => J_ _M_a\n",
    "```\n",
    "\n",
    "Spread operator also allows to spread one array or object into a new array or object. These spreads are shallow copy and any nested arrays or objects will be shared between these two copies. \n",
    "``` js\n",
    "const newArray = [...numbers];\n",
    "\n",
    "const newObject = { ...person };\n",
    "```\n",
    "In addition to shallow copying, the spread operator also allows to copy the contents of two or more different arrays into a third array. \n",
    "``` js\n",
    "let fruits = [\"apple\", \"orange\", \"banana\"];\n",
    "let vegetables = [\"carrots\", \"celery\", \"potato\"];\n",
    "let foods = [...fruits, ...vegetables, \"eggs\", \"milk\"];\n",
    "```"
   ]
  },
  {
   "cell_type": "markdown",
   "id": "ad8be113-5987-4d25-ac84-3231afe82644",
   "metadata": {},
   "source": [
    "## Template Strings\n",
    "\n",
    "Strings can be defined in JS by specifying string literals either in single quotes or double quotes. \\\n",
    "Third way to define string literal is with a backtick character. Strings defined with backtick character are called template strings, because they can be used as a template with dynamic values. They support string interpolation - dynamic values can be injected into dollar curly braces sign. \\\n",
    "Template string also supports multiple lines of the string, which double and single quoted strings do not support. \n",
    "```js\n",
    "const greetings = \"Hello\";\n",
    "const firstName = 'Jack';\n",
    "const htmlSection = `\n",
    "    <div>\n",
    "        ${greetings} ${firstName}\n",
    "    </div>\n",
    "`;\n",
    "```"
   ]
  },
  {
   "cell_type": "markdown",
   "id": "5012f979-ba79-4ca5-bd2d-7f01cd5158ae",
   "metadata": {},
   "source": [
    "## Further topics to study\n",
    "### Hoisting\n",
    "### Lexical Scope\n",
    "### Scope Chaining\n",
    "### Temporal Dead Zone (TDZ)\n",
    "### Shadowing\n",
    "### Function Declaration vs Function Expression\n",
    "### Named Functions vs Anonymous Functions\n",
    "### First Class Functions\n",
    "### Closures\n",
    "### Function Currying\n",
    "### Higher Order Functions\n",
    "### Classes\n",
    "### Callbacks\n",
    "### Promises\n",
    "### Event Loop"
   ]
  },
  {
   "cell_type": "markdown",
   "id": "a3d3f397-19ba-4851-a7a9-28ae62d52250",
   "metadata": {},
   "source": [
    "## Named Function vs Anonymous Function\n",
    "### Named Function\n",
    "Declared by using the keyword `function` followed by the name of the function. \\\n",
    "And the function can be called by its name directly. \\\n",
    "Named function is hoisted to the top of the scope. This allows the function to be referenced and called before its definition in the code.\\\n",
    "A named function can optionally be assigned to a variable. \n",
    "``` js\n",
    "greet(\"Jack\");\n",
    "function greet(name) {\n",
    "    console.log(`Hello ${name}, I'm named function.`);\n",
    "}\n",
    "```\n",
    "\n",
    "### Anonymous Function\n",
    "A function declared without any name is called Anonymous Function.\\\n",
    "It can't be called by name - obviously since there is no name. I can only be called through the variable or as function argument.\\\n",
    "Anonymous function is not hoisted. Declaration and assignment of the function remain in the original position of the code. Hence, the function cannot be referenced positionally before it has been defined.\\\n",
    "Such function is usually assigned to a variable or passed as an argument to another function (see CallBack Function).\n",
    "``` js\n",
    "const greet = function(name) {\n",
    "    console.log(`Hello ${name}, I'm anonymous function.`);\n",
    "}\n",
    "greet(\"Jack\");\n",
    "```\n"
   ]
  },
  {
   "cell_type": "markdown",
   "id": "3f9d38d7-c25c-4411-a22a-a5e5ce8d40f1",
   "metadata": {},
   "source": [
    "## First Class Function\n"
   ]
  },
  {
   "cell_type": "code",
   "execution_count": null,
   "id": "9730761c-e4da-49d4-891b-f6bbac40c0f2",
   "metadata": {},
   "outputs": [],
   "source": []
  }
 ],
 "metadata": {
  "kernelspec": {
   "display_name": "JavaScript (Node.js)",
   "language": "javascript",
   "name": "javascript"
  },
  "language_info": {
   "file_extension": ".js",
   "mimetype": "application/javascript",
   "name": "javascript",
   "version": "18.18.2"
  }
 },
 "nbformat": 4,
 "nbformat_minor": 5
}
