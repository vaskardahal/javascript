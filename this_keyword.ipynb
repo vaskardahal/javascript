{
 "cells": [
  {
   "cell_type": "markdown",
   "id": "8339e974-67ef-444f-9e0a-852e5baf32a8",
   "metadata": {},
   "source": [
    "# `this` keyword in JavaScript"
   ]
  },
  {
   "cell_type": "markdown",
   "id": "b6fa17b7-9943-43da-8c46-bcc0317ab2d6",
   "metadata": {},
   "source": [
    "## `this` in Global Scope\n",
    "In the global context, `this` represents the global object of the JS runtime. \\\n",
    "In the case of JS runtime in browser, the global object is `Window` object. \\\n",
    "In the case of node.js runtime, the global object is the `global` object. \\\n",
    "It does not matter if the `this` keyword is inside a block or not. Example: \n",
    "``` js\n",
    "if (true) {\n",
    "    console.log(this); // Still it is global object\n",
    "}\n",
    "```"
   ]
  },
  {
   "cell_type": "code",
   "execution_count": 9,
   "id": "bbe09f31-309b-4fa4-a532-fcb5d77a082b",
   "metadata": {},
   "outputs": [
    {
     "name": "stdout",
     "output_type": "stream",
     "text": [
      "<ref *1> Object [global] {\n",
      "  global: [Circular *1],\n",
      "  queueMicrotask: [Function: queueMicrotask],\n",
      "  clearImmediate: [Function: clearImmediate],\n",
      "  setImmediate: [Function: setImmediate] {\n",
      "    [Symbol(nodejs.util.promisify.custom)]: [Getter]\n",
      "  },\n",
      "  structuredClone: [Function: structuredClone],\n",
      "  clearInterval: [Function: clearInterval],\n",
      "  clearTimeout: [Function: clearTimeout],\n",
      "  setInterval: [Function: setInterval],\n",
      "  setTimeout: [Function: setTimeout] {\n",
      "    [Symbol(nodejs.util.promisify.custom)]: [Getter]\n",
      "  },\n",
      "  atob: [Function: atob],\n",
      "  btoa: [Function: btoa],\n",
      "  performance: Performance {\n",
      "    nodeTiming: PerformanceNodeTiming {\n",
      "      name: 'node',\n",
      "      entryType: 'node',\n",
      "      startTime: 0,\n",
      "      duration: 11299705.601,\n",
      "      nodeStart: 2.7945000000763685,\n",
      "      v8Start: 5.834800000069663,\n",
      "      bootstrapComplete: 30.68640000000596,\n",
      "      environment: 13.231900000013411,\n",
      "      loopStart: 34.7789000000339,\n",
      "      loopExit: -1,\n",
      "      idleTime: 11299636.0538\n",
      "    },\n",
      "    timeOrigin: 1706552629293.103\n",
      "  },\n",
      "  fetch: [AsyncFunction: fetch],\n",
      "  __filename: '[eval]',\n",
      "  module: <ref *2> [Function: Module] {\n",
      "    builtinModules: [\n",
      "      '_http_agent',         '_http_client',        '_http_common',\n",
      "      '_http_incoming',      '_http_outgoing',      '_http_server',\n",
      "      '_stream_duplex',      '_stream_passthrough', '_stream_readable',\n",
      "      '_stream_transform',   '_stream_wrap',        '_stream_writable',\n",
      "      '_tls_common',         '_tls_wrap',           'assert',\n",
      "      'assert/strict',       'async_hooks',         'buffer',\n",
      "      'child_process',       'cluster',             'console',\n",
      "      'constants',           'crypto',              'dgram',\n",
      "      'diagnostics_channel', 'dns',                 'dns/promises',\n",
      "      'domain',              'events',              'fs',\n",
      "      'fs/promises',         'http',                'http2',\n",
      "      'https',               'inspector',           'module',\n",
      "      'net',                 'os',                  'path',\n",
      "      'path/posix',          'path/win32',          'perf_hooks',\n",
      "      'process',             'punycode',            'querystring',\n",
      "      'readline',            'readline/promises',   'repl',\n",
      "      'stream',              'stream/consumers',    'stream/promises',\n",
      "      'stream/web',          'string_decoder',      'sys',\n",
      "      'timers',              'timers/promises',     'tls',\n",
      "      'trace_events',        'tty',                 'url',\n",
      "      'util',                'util/types',          'v8',\n",
      "      'vm',                  'wasi',                'worker_threads',\n",
      "      'zlib'\n",
      "    ],\n",
      "    _cache: [Object: null prototype] {},\n",
      "    _pathCache: [Object: null prototype] {},\n",
      "    _extensions: [Object: null prototype] {\n",
      "      '.js': [Function (anonymous)],\n",
      "      '.json': [Function (anonymous)],\n",
      "      '.node': [Function (anonymous)]\n",
      "    },\n",
      "    globalPaths: [\n",
      "      'C:\\\\Users\\\\VDon\\\\.node_modules',\n",
      "      'C:\\\\Users\\\\VDon\\\\.node_libraries',\n",
      "      'C:\\\\ProgramData\\\\miniconda3\\\\envs\\\\js\\\\lib\\\\node'\n",
      "    ],\n",
      "    _debug: [Function: deprecated],\n",
      "    _findPath: [Function (anonymous)],\n",
      "    _nodeModulePaths: [Function (anonymous)],\n",
      "    _resolveLookupPaths: [Function (anonymous)],\n",
      "    _load: [Function (anonymous)],\n",
      "    _resolveFilename: [Function (anonymous)],\n",
      "    createRequire: [Function: createRequire],\n",
      "    _initPaths: [Function (anonymous)],\n",
      "    _preloadModules: [Function (anonymous)],\n",
      "    syncBuiltinESMExports: [Function: syncBuiltinESMExports],\n",
      "    isBuiltin: [Function: isBuiltin],\n",
      "    Module: [Circular *2],\n",
      "    runMain: [Function: executeUserEntryPoint],\n",
      "    findSourceMap: [Function: findSourceMap],\n",
      "    SourceMap: [class SourceMap]\n",
      "  },\n",
      "  exports: {},\n",
      "  __dirname: '.',\n",
      "  require: [Function: require] {\n",
      "    resolve: [Function: resolve] { paths: [Function: paths] },\n",
      "    main: undefined,\n",
      "    extensions: [Object: null prototype] {\n",
      "      '.js': [Function (anonymous)],\n",
      "      '.json': [Function (anonymous)],\n",
      "      '.node': [Function (anonymous)]\n",
      "    },\n",
      "    cache: [Object: null prototype] {}\n",
      "  },\n",
      "  '$$mimer$$': [Function: defaultMimer],\n",
      "  '$$done$$': [Function: bound bound done],\n",
      "  greet: [Function: greet],\n",
      "  console: Console [console] {\n",
      "    log: [Function: log],\n",
      "    warn: [Function: warn],\n",
      "    dir: [Function: dir],\n",
      "    time: [Function: time],\n",
      "    timeEnd: [Function: timeEnd],\n",
      "    timeLog: [Function: timeLog],\n",
      "    trace: [Function: trace],\n",
      "    assert: [Function: assert],\n",
      "    clear: [Function: clear],\n",
      "    count: [Function: count],\n",
      "    countReset: [Function: countReset],\n",
      "    group: [Function: group],\n",
      "    groupEnd: [Function: groupEnd],\n",
      "    table: [Function: table],\n",
      "    debug: [Function: debug],\n",
      "    info: [Function: info],\n",
      "    dirxml: [Function: dirxml],\n",
      "    error: [Function: error],\n",
      "    groupCollapsed: [Function: groupCollapsed],\n",
      "    Console: [Function: Console]\n",
      "  },\n",
      "  '$$': [Object: null prototype] {\n",
      "    async: [Function: bound async],\n",
      "    done: [Function: bound done],\n",
      "    sendResult: [Function: bound ],\n",
      "    sendError: [Function: bound ],\n",
      "    mime: [Function: bound ],\n",
      "    text: [Function: bound ],\n",
      "    html: [Function: bound ],\n",
      "    svg: [Function: bound ],\n",
      "    png: [Function: bound ],\n",
      "    jpeg: [Function: bound ],\n",
      "    json: [Function: bound ],\n",
      "    input: [Function: bound input],\n",
      "    display: [Function: bound createDisplay],\n",
      "    clear: [Function: bound clear]\n",
      "  }\n",
      "}\n"
     ]
    }
   ],
   "source": [
    "console.log(this);"
   ]
  },
  {
   "cell_type": "markdown",
   "id": "a552c532-0447-47d5-918b-aeb15cced935",
   "metadata": {},
   "source": [
    "## `this` keyword inside Function \\ Function Statement\n",
    "The default value of `this` keyword inside a function depends on whether the JS runtime is set to strict mode or non-strict mode. \\\n",
    "By default in the strict mode, the `this` keyword inside a function is undefined. Let's not forget this very important information. \\\n",
    "Inside a function statement in non-strict mode, the value of `this` depends on how the function is called, and takes on the value of the object calling the function, in other words the object that \"owns\" the function execution. \\\n",
    "When the function is called within the global scope, the value of `this` is the global object. \n",
    "```js\n",
    "function greet() {\n",
    "    return this;\n",
    "}\n",
    "greet(); // returns the global object\n",
    "```\n",
    "Why is it so? This is because, within the global scope, the context of the function is the global object itself. That means, it is the global object that calls the function. \n",
    "```js\n",
    "greet();\n",
    "global.greet(); // In node.js\n",
    "Window.greet(); // In browser\n",
    "```\n",
    "All three function calls above return the global object (which lies in the global context). \\\n",
    "To understand this better let's take the example below: "
   ]
  },
  {
   "cell_type": "code",
   "execution_count": 2,
   "id": "b0469c2b-101a-42bd-bf1a-886ec5bacf34",
   "metadata": {},
   "outputs": [],
   "source": [
    "function greet() {\n",
    "    return this;\n",
    "}"
   ]
  },
  {
   "cell_type": "code",
   "execution_count": 3,
   "id": "0c660038-ebea-49a4-91d3-7adbac36579e",
   "metadata": {},
   "outputs": [
    {
     "data": {
      "text/plain": [
       "{ name: 'Jack', greet: [Function: greet] }"
      ]
     },
     "execution_count": 3,
     "metadata": {},
     "output_type": "execute_result"
    }
   ],
   "source": [
    "const jack = {\n",
    "    name: 'Jack',\n",
    "    greet: greet\n",
    "}\n",
    "jack.greet();"
   ]
  },
  {
   "cell_type": "code",
   "execution_count": 4,
   "id": "5c1f3c61-5d92-4e01-b2da-1449a155e24e",
   "metadata": {},
   "outputs": [
    {
     "data": {
      "text/plain": [
       "{ name: 'Mark', greet: [Function: greet] }"
      ]
     },
     "execution_count": 4,
     "metadata": {},
     "output_type": "execute_result"
    }
   ],
   "source": [
    "const mark = {\n",
    "    name: 'Mark', \n",
    "    greet\n",
    "}\n",
    "mark.greet();"
   ]
  },
  {
   "cell_type": "markdown",
   "id": "d665d1a7-54fc-443a-a874-fcb185b09d3e",
   "metadata": {},
   "source": [
    "In either of these cases, the objects calling the function `greet()` are `jack` and `mark`respectively - and not the global object anymore. \\\n",
    "As such, `this` inside the function resolves to the calling object respectively in each case. "
   ]
  },
  {
   "cell_type": "markdown",
   "id": "a0fe3c75-8c40-43b4-bdac-7b163c194fed",
   "metadata": {},
   "source": [
    "## `this` keyword inside Arrow Functions\n",
    "Arrow functions do not provide their own native binding to `this` keyword. In other words, when an arrow function is evaluated, a new `this` keyword binding is not created for this arrow function. And because of that, this keyword retains the value of `this` keyword of its enclosing lexical context by creating a closure over the `this` value of its surrounding scope.\n",
    "\n",
    "In the global scope, `this` is always the globalobject (also called globalThis), regardless of strictness, because of the global context binding. \n",
    "```js\n",
    "const globalObject = this;\n",
    "const foo = () => this;\n",
    "console.log(foo() === globalObject); // true\n",
    "```\n",
    "\n",
    "No matter how the function was invoked, `this` inside an arrow function is bound to the value of `this` in the surrounding scope in which the function was created. \n",
    "``` js\n",
    "const globalObject = this;\n",
    "const foo =  () => this;\n",
    "const joey = {\n",
    "    name: 'Joey',\n",
    "    foo\n",
    "}\n",
    "console.log(joey.foo() === globalObject); // true\n",
    "```"
   ]
  },
  {
   "cell_type": "markdown",
   "id": "7b302801-2099-4b3d-a22d-0891c6aeafd9",
   "metadata": {},
   "source": [
    "## `this` keyword inside Callback Function"
   ]
  },
  {
   "cell_type": "markdown",
   "id": "e534c374-5563-45ed-ba22-fb4711cff822",
   "metadata": {},
   "source": [
    "## `this` keyword inside Constructor Function\n",
    "\n",
    "Let's talk about Constructor Function first. A Cunstructor Fuction is nothing but a normal function, but it is used to create an object. \n",
    "``` js\n",
    "function Person (firstName, lastName, age) {\n",
    "    this.firstName = firstName;\n",
    "    this.lastName = lastName;\n",
    "    this.age = age;\n",
    "    this.fullName = function() {\n",
    "        return `${this.firstName} ${this.lastName}`;\n",
    "    }\n",
    "}\n",
    "\n",
    "let keanu = new Person('Keanu', 'Reaves', 45);\n",
    "console.log(keanu.fullName()); // Returns => Keanu Reaves\n",
    "```\n",
    "Since the Constructor Function is nothing special and just an ordinary function with some imput parameters, if it is invoked without the `new` keyword, it will be executed as a normal function would. \\\n",
    "So, the trick lies in the usage of `new` keyword. When the function is invoked with a `new` keyword, a new instance of an object is created in the memory and the `this` keyword is assigned to the newly creted object itself. Thus when multiple objects are created, the `this` keyword can be used to assign properties and methods that will remain unique to each insance of the object. \\\n",
    "As a sidenote, with Constructor Functions, all members (properties and methods) become the member of the new object itself instead of its prototype. "
   ]
  },
  {
   "cell_type": "code",
   "execution_count": null,
   "id": "8ad20403-aa32-4d5c-97b0-149cc28c50c1",
   "metadata": {},
   "outputs": [],
   "source": []
  }
 ],
 "metadata": {
  "kernelspec": {
   "display_name": "JavaScript (Node.js)",
   "language": "javascript",
   "name": "javascript"
  },
  "language_info": {
   "file_extension": ".js",
   "mimetype": "application/javascript",
   "name": "javascript",
   "version": "18.18.2"
  }
 },
 "nbformat": 4,
 "nbformat_minor": 5
}
